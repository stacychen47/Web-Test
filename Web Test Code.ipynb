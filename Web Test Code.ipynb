{
 "cells": [
  {
   "cell_type": "code",
   "execution_count": 10,
   "metadata": {},
   "outputs": [],
   "source": [
    "import time\n",
    "from selenium import webdriver\n",
    "from selenium.webdriver.support.select import Select\n",
    "\n",
    "driverPath = 'C:\\python\\chromedriver.exe'\n",
    "driver = webdriver.Chrome(driverPath)\n",
    "\n",
    "def driver_init():\n",
    "    driver.get(url)\n",
    "    time.sleep(5)\n",
    "\n",
    "\n",
    "def get_xpath(xpath):            \n",
    "    xpathname = driver.find_element_by_xpath(xpath)\n",
    "    return xpathname \n",
    "    \n",
    "    \n",
    "url = 'https://www.timeanddate.com/'\n",
    "\n",
    "driver_init()\n",
    "\n",
    "#測試下拉式選單\n",
    "selectElements = driver.find_element_by_id('month')\n",
    "months = Select(selectElements)\n",
    "months.select_by_visible_text('August')\n",
    "countriesElements = driver.find_element_by_id('country')\n",
    "countries = Select(countriesElements)\n",
    "countries.select_by_visible_text('Japan')\n",
    "driver.save_screenshot('step1.jpg')\n",
    "driver.find_element_by_xpath(\"//form[@id='cf']//input[@value='View calendar']\").click()\n",
    "\n",
    "time.sleep(2)\n",
    "\n",
    "#測試往下一年按鈕\n",
    "get_xpath(\"//div[@id='calarea']/ul[@class='pager']//a[@href='/calendar/?year=2022&country=26']\").click()\n",
    "time.sleep(2)\n",
    "driver.save_screenshot('step2.jpg')\n",
    "time.sleep(2)\n",
    "\n",
    "#測試往上一年按鈕\n",
    "get_xpath(\"//div[@id='calarea']/ul[@class='pager']//a[@title='Show calendar for year 2021']\").click()\n",
    "time.sleep(2)\n",
    "driver.save_screenshot('step3.jpg')\n",
    "time.sleep(2)\n",
    "\n",
    "#測試是否可以正常跳轉到\"列印\"按鈕\n",
    "get_xpath(\"//div[@id='cts']//a[@title='Printer friendly']/img[@alt='Print']\").click()\n",
    "time.sleep(3)\n",
    "driver.save_screenshot('step4.jpg')\n",
    "time.sleep(3)\n",
    "\n",
    "driver.back()"
   ]
  },
  {
   "cell_type": "code",
   "execution_count": null,
   "metadata": {},
   "outputs": [],
   "source": []
  }
 ],
 "metadata": {
  "kernelspec": {
   "display_name": "Python 3",
   "language": "python",
   "name": "python3"
  },
  "language_info": {
   "codemirror_mode": {
    "name": "ipython",
    "version": 3
   },
   "file_extension": ".py",
   "mimetype": "text/x-python",
   "name": "python",
   "nbconvert_exporter": "python",
   "pygments_lexer": "ipython3",
   "version": "3.8.5"
  }
 },
 "nbformat": 4,
 "nbformat_minor": 4
}
